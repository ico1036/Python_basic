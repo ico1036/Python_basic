{
 "cells": [
  {
   "cell_type": "markdown",
   "metadata": {},
   "source": [
    "## 파이썬 기초문법 정리\n",
    "## #1 문자열기초\n",
    "저자: 제이슨 캐넌 출판:에이콘 Phython programming for begginer 책을 기반으로 정리했습니다"
   ]
  },
  {
   "cell_type": "code",
   "execution_count": 14,
   "metadata": {},
   "outputs": [
    {
     "name": "stdout",
     "output_type": "stream",
     "text": [
      "0123456789abcDef\n"
     ]
    }
   ],
   "source": [
    "s='0123456789abcDef'\n",
    "print(s)"
   ]
  },
  {
   "cell_type": "code",
   "execution_count": 15,
   "metadata": {},
   "outputs": [
    {
     "name": "stdout",
     "output_type": "stream",
     "text": [
      "16\n",
      "0\n",
      "f\n"
     ]
    }
   ],
   "source": [
    "print(len(s))\n",
    "print(s[0])\n",
    "print(s[15])"
   ]
  },
  {
   "cell_type": "markdown",
   "metadata": {},
   "source": [
    "문자열 인덱싱"
   ]
  },
  {
   "cell_type": "code",
   "execution_count": 16,
   "metadata": {},
   "outputs": [
    {
     "name": "stdout",
     "output_type": "stream",
     "text": [
      "0123456789abcdef\n",
      "0123456789ABCDEF\n"
     ]
    }
   ],
   "source": [
    "print(s.lower())\n",
    "print(s.upper())"
   ]
  },
  {
   "cell_type": "markdown",
   "metadata": {},
   "source": [
    "대/소문자 변환"
   ]
  },
  {
   "cell_type": "code",
   "execution_count": 17,
   "metadata": {},
   "outputs": [
    {
     "name": "stdout",
     "output_type": "stream",
     "text": [
      "/home/usr/dir/test/jkim.c\n"
     ]
    }
   ],
   "source": [
    "tag=\"/home/usr/dir/test\"\n",
    "filename='/jkim.c'\n",
    "print(tag+filename)"
   ]
  },
  {
   "cell_type": "markdown",
   "metadata": {},
   "source": [
    "문자열 합치기"
   ]
  },
  {
   "cell_type": "code",
   "execution_count": 19,
   "metadata": {},
   "outputs": [
    {
     "name": "stdout",
     "output_type": "stream",
     "text": [
      "/home/usr/dir/test3/jkim.c\n"
     ]
    }
   ],
   "source": [
    "version=3\n",
    "print(tag+str(version)+filename)"
   ]
  },
  {
   "cell_type": "markdown",
   "metadata": {},
   "source": [
    "str() 메소드 : 문자열로 형변환"
   ]
  },
  {
   "cell_type": "code",
   "execution_count": 22,
   "metadata": {},
   "outputs": [
    {
     "name": "stdout",
     "output_type": "stream",
     "text": [
      "value1 : unknown value2 : 123 value3 : 1112\n",
      "==================================\n",
      "value1 : 123 value2 : 123 value3 : 1112\n"
     ]
    }
   ],
   "source": [
    "print('value1 : {} value2 : {} value3 : {}'.format('unknown',123,'1112'))\n",
    "print(\"==\"*17)\n",
    "print('value1 : {1} value2 : {1} value3 : {2}'.format('unknown',123,'1112'))"
   ]
  },
  {
   "cell_type": "markdown",
   "metadata": {},
   "source": [
    "포맷문자열 형식"
   ]
  },
  {
   "cell_type": "code",
   "execution_count": 1,
   "metadata": {},
   "outputs": [
    {
     "name": "stdout",
     "output_type": "stream",
     "text": [
      "type your name: 123\n",
      "I am 123\n"
     ]
    }
   ],
   "source": [
    "name=input('type your name: ')\n",
    "print('I am {}'.format(name))"
   ]
  },
  {
   "cell_type": "markdown",
   "metadata": {},
   "source": [
    "raw_input() : 문자열로  input(): 그대로"
   ]
  }
 ],
 "metadata": {
  "kernelspec": {
   "display_name": "Python 2",
   "language": "python",
   "name": "python2"
  },
  "language_info": {
   "codemirror_mode": {
    "name": "ipython",
    "version": 2
   },
   "file_extension": ".py",
   "mimetype": "text/x-python",
   "name": "python",
   "nbconvert_exporter": "python",
   "pygments_lexer": "ipython2",
   "version": "2.7.15"
  }
 },
 "nbformat": 4,
 "nbformat_minor": 2
}
