{
 "cells": [
  {
   "cell_type": "markdown",
   "metadata": {},
   "source": [
    "## 파이썬 기초문법 정리\n",
    "## #8 딕셔너리\n",
    "저자: 제이슨 캐넌 출판:에이콘 Phython programming for begginer 책을 기반으로 정리했습니다"
   ]
  },
  {
   "cell_type": "code",
   "execution_count": 2,
   "metadata": {},
   "outputs": [],
   "source": [
    "contacts = {\n",
    "    'james'  :  '010123123',\n",
    "    'simon' :  ['11111111','222222']   \n",
    "}"
   ]
  },
  {
   "cell_type": "code",
   "execution_count": 3,
   "metadata": {},
   "outputs": [
    {
     "name": "stdout",
     "output_type": "stream",
     "text": [
      "11111111\n"
     ]
    }
   ],
   "source": [
    "print(contacts['simon'][0])"
   ]
  },
  {
   "cell_type": "code",
   "execution_count": 4,
   "metadata": {},
   "outputs": [
    {
     "name": "stdout",
     "output_type": "stream",
     "text": [
      "11111111\n",
      "222222\n"
     ]
    }
   ],
   "source": [
    "for i in contacts['simon']:\n",
    "    print i"
   ]
  },
  {
   "cell_type": "markdown",
   "metadata": {},
   "source": [
    "딕셔너리의 값이 리스트일경우 접근방법 2개"
   ]
  },
  {
   "cell_type": "code",
   "execution_count": 5,
   "metadata": {},
   "outputs": [
    {
     "name": "stdout",
     "output_type": "stream",
     "text": [
      "james!\n"
     ]
    }
   ],
   "source": [
    "if 'james' in contacts:\n",
    "    print ('james!')"
   ]
  },
  {
   "cell_type": "markdown",
   "metadata": {},
   "source": [
    "딕셔너리에서 키 찾기"
   ]
  },
  {
   "cell_type": "code",
   "execution_count": 9,
   "metadata": {},
   "outputs": [
    {
     "name": "stdout",
     "output_type": "stream",
     "text": [
      "['010123123', ['11111111', '222222']]\n"
     ]
    }
   ],
   "source": [
    "print(contacts.values())"
   ]
  },
  {
   "cell_type": "code",
   "execution_count": 10,
   "metadata": {},
   "outputs": [
    {
     "name": "stdout",
     "output_type": "stream",
     "text": [
      "010123123\n",
      "['11111111', '222222']\n"
     ]
    }
   ],
   "source": [
    "for i in contacts.values():\n",
    "    print i"
   ]
  },
  {
   "cell_type": "markdown",
   "metadata": {},
   "source": [
    "values()  메소드는 딕셔너리의 값만 리스트 형태로 출력한다"
   ]
  },
  {
   "cell_type": "code",
   "execution_count": 11,
   "metadata": {},
   "outputs": [
    {
     "name": "stdout",
     "output_type": "stream",
     "text": [
      "no info\n"
     ]
    }
   ],
   "source": [
    "if '11' not in contacts.values():\n",
    "    print('no info')"
   ]
  },
  {
   "cell_type": "markdown",
   "metadata": {},
   "source": [
    "딕셔너리에서 값 찾기"
   ]
  },
  {
   "cell_type": "code",
   "execution_count": 14,
   "metadata": {},
   "outputs": [],
   "source": [
    "DB = {\n",
    "    'jkim':{\n",
    "        'locx':12,\n",
    "        'locy':13.5,\n",
    "        'timestamp':'asdEOf12'\n",
    "    },\n",
    "    'james':{\n",
    "        'locx':91,\n",
    "        'locy':10.2,\n",
    "        'timestamp':'asdEOf13'\n",
    "    }\n",
    "}"
   ]
  },
  {
   "cell_type": "markdown",
   "metadata": {},
   "source": [
    "딕셔너리안의 원소의 타입은 제한이 없다. 같은 딕셔너리가 들어와도된다. *콤마조심*"
   ]
  },
  {
   "cell_type": "code",
   "execution_count": 16,
   "metadata": {},
   "outputs": [
    {
     "name": "stdout",
     "output_type": "stream",
     "text": [
      "asdEOf12\n"
     ]
    }
   ],
   "source": [
    "print(DB['jkim']['timestamp'])    "
   ]
  },
  {
   "cell_type": "code",
   "execution_count": 18,
   "metadata": {},
   "outputs": [
    {
     "name": "stdout",
     "output_type": "stream",
     "text": [
      "timestamp\n",
      "locx\n",
      "locy\n"
     ]
    }
   ],
   "source": [
    "for key in DB['jkim']:\n",
    "    print key"
   ]
  }
 ],
 "metadata": {
  "kernelspec": {
   "display_name": "Python 2",
   "language": "python",
   "name": "python2"
  },
  "language_info": {
   "codemirror_mode": {
    "name": "ipython",
    "version": 2
   },
   "file_extension": ".py",
   "mimetype": "text/x-python",
   "name": "python",
   "nbconvert_exporter": "python",
   "pygments_lexer": "ipython2",
   "version": "2.7.15"
  }
 },
 "nbformat": 4,
 "nbformat_minor": 2
}
