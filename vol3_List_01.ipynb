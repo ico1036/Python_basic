{
 "cells": [
  {
   "cell_type": "markdown",
   "metadata": {},
   "source": [
    "## 파이썬 기초문법 정리\n",
    "## #3 리스트\n",
    "저자: 제이슨 캐넌 출판:에이콘 Phython programming for begginer 책을 기반으로 정리했습니다"
   ]
  },
  {
   "cell_type": "code",
   "execution_count": 1,
   "metadata": {},
   "outputs": [],
   "source": [
    "animals = []\n",
    "animals =[\"human\",\"dog\",\"pig\"]\n",
    "mix=[\"asd\",True,123]"
   ]
  },
  {
   "cell_type": "markdown",
   "metadata": {},
   "source": [
    "리스트는 동적 배열이고, 여러 타입의 원소가 한번에 들어갈 수 있다."
   ]
  },
  {
   "cell_type": "code",
   "execution_count": 2,
   "metadata": {},
   "outputs": [
    {
     "name": "stdout",
     "output_type": "stream",
     "text": [
      "['human', 'dog', 'pig']\n",
      "human\n",
      "pig\n",
      "dog\n",
      "asd\n"
     ]
    }
   ],
   "source": [
    "print(animals)\n",
    "print(animals[0])\n",
    "print(animals[-1])\n",
    "print(animals[-2])\n",
    "print(mix[-3])"
   ]
  },
  {
   "cell_type": "markdown",
   "metadata": {},
   "source": [
    "뒤에부터 접근할 경우에는 음수를 이용한다: -2 -> 뒤에서 두번째 원소"
   ]
  },
  {
   "cell_type": "code",
   "execution_count": 3,
   "metadata": {},
   "outputs": [
    {
     "name": "stdout",
     "output_type": "stream",
     "text": [
      "cow\n"
     ]
    }
   ],
   "source": [
    "animals.append('cow')\n",
    "print(animals[-1])"
   ]
  },
  {
   "cell_type": "markdown",
   "metadata": {},
   "source": [
    "리스트의 맨 뒤에 원소를 추가 할 시 append 를 이용한다"
   ]
  },
  {
   "cell_type": "markdown",
   "metadata": {},
   "source": [
    "c 처럼 a[i]=i+1 식으로 배열을 추가할 수 없다"
   ]
  },
  {
   "cell_type": "code",
   "execution_count": 4,
   "metadata": {},
   "outputs": [
    {
     "name": "stdout",
     "output_type": "stream",
     "text": [
      "['human', 'dog', 'pig', 'cow', 'horse', 'bear']\n",
      "['asd', True, 123, 'a', 'b']\n"
     ]
    }
   ],
   "source": [
    "animals.extend(['horse','bear'])\n",
    "more_list=['a','b']\n",
    "mix.extend(more_list)\n",
    "print(animals)\n",
    "print(mix)"
   ]
  },
  {
   "cell_type": "markdown",
   "metadata": {},
   "source": [
    "리스트에 여러가지 원소를 추가하는 방법으로 extend 를 이용한다"
   ]
  },
  {
   "cell_type": "code",
   "execution_count": 5,
   "metadata": {},
   "outputs": [
    {
     "name": "stdout",
     "output_type": "stream",
     "text": [
      "['asd', True, 123, 'a', 'b', 'c', 'd', 'e', 'f']\n"
     ]
    }
   ],
   "source": [
    "more_list2=['e','f']\n",
    "print(mix+['c','d']+more_list2)"
   ]
  },
  {
   "cell_type": "markdown",
   "metadata": {},
   "source": [
    "리스트 끼리 덧셈해도 확장이 가능하다"
   ]
  },
  {
   "cell_type": "code",
   "execution_count": null,
   "metadata": {},
   "outputs": [],
   "source": []
  }
 ],
 "metadata": {
  "kernelspec": {
   "display_name": "Python 2",
   "language": "python",
   "name": "python2"
  },
  "language_info": {
   "codemirror_mode": {
    "name": "ipython",
    "version": 2
   },
   "file_extension": ".py",
   "mimetype": "text/x-python",
   "name": "python",
   "nbconvert_exporter": "python",
   "pygments_lexer": "ipython2",
   "version": "2.7.15"
  }
 },
 "nbformat": 4,
 "nbformat_minor": 2
}
